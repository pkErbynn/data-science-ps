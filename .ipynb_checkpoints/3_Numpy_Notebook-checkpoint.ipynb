{
 "cells": [
  {
   "cell_type": "markdown",
   "metadata": {},
   "source": [
    "# Getting started with ndarray\n",
    "\n",
    "**ndarrays** are time and space-efficient multidimensional arrays at the core of numpy used to create ndarrays. **ndarrays** means n dimensional arrays...where n = 1,2,3,..."
   ]
  },
  {
   "cell_type": "markdown",
   "metadata": {},
   "source": [
    "## Creating Rank 1 numpy arrays"
   ]
  },
  {
   "cell_type": "code",
   "execution_count": 1,
   "metadata": {},
   "outputs": [
    {
     "name": "stdout",
     "output_type": "stream",
     "text": [
      "<class 'numpy.ndarray'>\n"
     ]
    }
   ],
   "source": [
    "import numpy as np\n",
    "\n",
    "an_array = np.array( [2, 4, 6] )\n",
    "print( type(an_array) )"
   ]
  },
  {
   "cell_type": "code",
   "execution_count": 2,
   "metadata": {},
   "outputs": [
    {
     "name": "stdout",
     "output_type": "stream",
     "text": [
      "(3,)\n"
     ]
    }
   ],
   "source": [
    "# checking the shape of an array\n",
    "print( an_array.shape )"
   ]
  },
  {
   "cell_type": "code",
   "execution_count": 6,
   "metadata": {},
   "outputs": [
    {
     "name": "stdout",
     "output_type": "stream",
     "text": [
      "2 4 6\n"
     ]
    }
   ],
   "source": [
    "# since rank-1 array, need only one index to access each element\n",
    "print( an_array[0], an_array[1], an_array[2])"
   ]
  },
  {
   "cell_type": "code",
   "execution_count": 7,
   "metadata": {},
   "outputs": [
    {
     "name": "stdout",
     "output_type": "stream",
     "text": [
      "[20  4  6]\n"
     ]
    }
   ],
   "source": [
    "# ndarray in numpy is mutable\n",
    "an_array[0] = 20\n",
    "an_array[0] = 'HY' # Error\n",
    "print(an_array)"
   ]
  },
  {
   "cell_type": "markdown",
   "metadata": {},
   "source": [
    "## Creating a Rank 2 numpy array\n",
    "A rank 2 **ndarray** is one with dimensions. Notice the format is [ [row], [row] ].\n",
    "2D arrays are great for representing matrices which are often useful in data science."
   ]
  },
  {
   "cell_type": "code",
   "execution_count": 9,
   "metadata": {},
   "outputs": [
    {
     "name": "stdout",
     "output_type": "stream",
     "text": [
      "[[11 12 13]\n",
      " [21 22 23]]\n",
      "Shape: (2, 3)\n",
      "Retrieving 11, 12 and 21: 11 12 21\n"
     ]
    }
   ],
   "source": [
    "# creat 2d array\n",
    "another = np.array([ [11, 12, 13],\n",
    "                    [21, 22, 23] ])\n",
    "# print array\n",
    "print(another)\n",
    "\n",
    "# shape of array...rows x coloumns\n",
    "print('Shape:', another.shape)\n",
    "\n",
    "# access elements\n",
    "print('Retrieving 11, 12 and 21:', another[0,0], another[0,1], another[1,0])"
   ]
  },
  {
   "cell_type": "markdown",
   "metadata": {},
   "source": [
    "## Other ways to create numpy arrays\n",
    "Here we create a number of different size with different shapes and different pre-filled values numpy has a number of built-in methods which helps us quickly and easily create multidimensional arrays"
   ]
  },
  {
   "cell_type": "code",
   "execution_count": 11,
   "metadata": {},
   "outputs": [
    {
     "name": "stdout",
     "output_type": "stream",
     "text": [
      "[[0. 0.]\n",
      " [0. 0.]]\n"
     ]
    }
   ],
   "source": [
    "import numpy as np\n",
    "\n",
    "# create a 2x2 array of zeros\n",
    "ex1 = np.zeros( (2,2) )\n",
    "print(ex1)"
   ]
  },
  {
   "cell_type": "code",
   "execution_count": 12,
   "metadata": {},
   "outputs": [
    {
     "name": "stdout",
     "output_type": "stream",
     "text": [
      "[[5. 5.]\n",
      " [5. 5.]]\n"
     ]
    }
   ],
   "source": [
    "# create a 2x2 array filled with 5.0\n",
    "ex2 = np.full( (2,2), 5.0 )\n",
    "print(ex2)"
   ]
  },
  {
   "cell_type": "code",
   "execution_count": 14,
   "metadata": {},
   "outputs": [
    {
     "name": "stdout",
     "output_type": "stream",
     "text": [
      "[[1. 0.]\n",
      " [0. 1.]]\n"
     ]
    }
   ],
   "source": [
    "# create a 2x2 array with diagonal 1s and others 0s\n",
    "ex3 = np.eye(2, 2)\n",
    "print(ex3)"
   ]
  },
  {
   "cell_type": "code",
   "execution_count": 17,
   "metadata": {},
   "outputs": [
    {
     "name": "stdout",
     "output_type": "stream",
     "text": [
      "[[1. 1.]]\n"
     ]
    }
   ],
   "source": [
    "# create array of ones\n",
    "ex4 = np.ones( (1,2) )\n",
    "print(ex4)"
   ]
  },
  {
   "cell_type": "code",
   "execution_count": 21,
   "metadata": {},
   "outputs": [
    {
     "name": "stdout",
     "output_type": "stream",
     "text": [
      "(1, 2)\n",
      "\n",
      "1.0\n"
     ]
    }
   ],
   "source": [
    "# notice that the ex4 is actually rank 2, it is a 1x2 array\n",
    "print(ex4.shape)\n",
    "\n",
    "# ...which means two indexes needed to access an element\n",
    "print()\n",
    "print(ex4[0, 1])"
   ]
  },
  {
   "cell_type": "code",
   "execution_count": null,
   "metadata": {},
   "outputs": [],
   "source": [
    "# create array of random float between 0 and 1\n",
    "import numpy as np\n",
    "ex5 = np.random.random( (2, 3) )\n",
    "print(ex5)\n",
    "\n",
    "print()"
   ]
  },
  {
   "cell_type": "markdown",
   "metadata": {},
   "source": [
    ".\n",
    "\n",
    "\n",
    "\n",
    "# Array indexing "
   ]
  },
  {
   "cell_type": "markdown",
   "metadata": {},
   "source": [
    "## Slice indexing:\n",
    "\n",
    "Similar to the se of slice indexing with lists and strings, slice indexing can be used\n",
    "to pull out sub-regions of ndarrays."
   ]
  },
  {
   "cell_type": "code",
   "execution_count": 16,
   "metadata": {},
   "outputs": [
    {
     "name": "stdout",
     "output_type": "stream",
     "text": [
      "[[11 12 13 14]\n",
      " [21 22 23 24]\n",
      " [31 32 33 34]]\n"
     ]
    }
   ],
   "source": [
    "import numpy as np\n",
    "\n",
    "# rank 2 array of shape (3, 4)\n",
    "an_array = np.array([[11, 12, 13, 14],\n",
    "                     [21, 22, 23, 24],\n",
    "                     [31, 32, 33, 34]\n",
    "                    ])\n",
    "print(an_array)"
   ]
  },
  {
   "cell_type": "code",
   "execution_count": 20,
   "metadata": {
    "scrolled": false
   },
   "outputs": [
    {
     "name": "stdout",
     "output_type": "stream",
     "text": [
      "[[500  13]\n",
      " [ 22  23]]\n"
     ]
    }
   ],
   "source": [
    "# use array slicing to get a subarray of 2x2 \n",
    "\n",
    "a_slice = an_array[:2, 1:3]  \n",
    "print(a_slice)\n",
    "\n",
    "# np_slice = np.array(an_array[:2, 1:3]) ...this np-slice rather create copy\n",
    "# modifying this slice, DO NOT modify the underlyiing array"
   ]
  },
  {
   "cell_type": "code",
   "execution_count": 18,
   "metadata": {
    "scrolled": true
   },
   "outputs": [
    {
     "name": "stdout",
     "output_type": "stream",
     "text": [
      "Before: 12\n",
      "After: 500\n"
     ]
    }
   ],
   "source": [
    "# when you modify a slice, you actually modify the underlyiing root array\n",
    "\n",
    "print('Before:', an_array[0, 1])\n",
    "a_slice[0, 0] = 500\n",
    "print(\"After:\", an_array[0, 1])"
   ]
  },
  {
   "cell_type": "markdown",
   "metadata": {},
   "source": [
    "## Using both integer & slice indexing\n",
    "\n",
    "combination of integer and slice indexing to create different shaped matrices."
   ]
  },
  {
   "cell_type": "code",
   "execution_count": 21,
   "metadata": {},
   "outputs": [
    {
     "name": "stdout",
     "output_type": "stream",
     "text": [
      "[[11 12 13 14]\n",
      " [21 22 23 24]\n",
      " [31 32 33 34]]\n"
     ]
    }
   ],
   "source": [
    "# create a Rank 2 array of shape (3, 4)\n",
    "\n",
    "an_array = np.array([ [11,12,13,14], [21,22,23,24], [31,32,33,34] ])\n",
    "print(an_array)"
   ]
  },
  {
   "cell_type": "code",
   "execution_count": 25,
   "metadata": {},
   "outputs": [
    {
     "name": "stdout",
     "output_type": "stream",
     "text": [
      "[21 22 23 24] (4,)\n"
     ]
    }
   ],
   "source": [
    "# using both integer indexing and slicing generates and array of lower rank, 1D-array\n",
    "\n",
    "row_rank1 = an_array[1, :]  # rank 1 view\n",
    "print(row_rank1, row_rank1.shape)  # notice, only [ ]"
   ]
  },
  {
   "cell_type": "code",
   "execution_count": 26,
   "metadata": {},
   "outputs": [
    {
     "name": "stdout",
     "output_type": "stream",
     "text": [
      "[[21 22 23 24]] (1, 4)\n"
     ]
    }
   ],
   "source": [
    "# using slicing alone generates an array of the same rank as the an_array\n",
    "\n",
    "row_rank2 = an_array[1:2, :]  # rank 2 view\n",
    "print(row_rank2, row_rank2.shape)  # notice the [[ ]] "
   ]
  },
  {
   "cell_type": "code",
   "execution_count": 34,
   "metadata": {},
   "outputs": [
    {
     "name": "stdout",
     "output_type": "stream",
     "text": [
      "[12 22 32] (3,)\n",
      "\n",
      "[[12]\n",
      " [22]\n",
      " [32]] (3, 1)\n"
     ]
    }
   ],
   "source": [
    "# same thing for columns of an array\n",
    "\n",
    "col_rank1 = an_array[:, 1]\n",
    "col_rank2 = an_array[:, 1:2]\n",
    "\n",
    "print(col_rank1, col_rank1.shape)  # rank1\n",
    "print()\n",
    "print(col_rank2, col_rank2.shape)  # rank2"
   ]
  },
  {
   "cell_type": "markdown",
   "metadata": {},
   "source": [
    "## Array Indexing for changing elements\n",
    "\n",
    "sometimes it is useful to use an array of indexes to access or change elements"
   ]
  },
  {
   "cell_type": "code",
   "execution_count": 41,
   "metadata": {},
   "outputs": [
    {
     "name": "stdout",
     "output_type": "stream",
     "text": [
      "Original Array\n",
      "[[11 12 13]\n",
      " [21 22 23]\n",
      " [31 32 33]\n",
      " [41 42 43]]\n"
     ]
    }
   ],
   "source": [
    "# create new array \n",
    "\n",
    "an_array = np.array([ [11,12,13], [21,22,23], [31,32,33], [41,42,43] ])\n",
    "print(\"Original Array\")\n",
    "print(an_array)"
   ]
  },
  {
   "cell_type": "code",
   "execution_count": 42,
   "metadata": {},
   "outputs": [
    {
     "name": "stdout",
     "output_type": "stream",
     "text": [
      "\n",
      "Col indices picked: [0 1 2 0]\n",
      "\n",
      "Row indices picked: [0 1 2 3]\n"
     ]
    }
   ],
   "source": [
    "# creating an array of indices\n",
    "\n",
    "col_indices = np.array([0, 1, 2, 0])   # the above are values, these index\n",
    "print(\"\\nCol indices picked:\", col_indices)\n",
    "\n",
    "row_indices = np.arange(4)\n",
    "print(\"\\nRow indices picked:\", row_indices)"
   ]
  },
  {
   "cell_type": "code",
   "execution_count": 43,
   "metadata": {},
   "outputs": [],
   "source": [
    "# pairing of col_indices and row_indices\n",
    "\n",
    "# for row,col in zip(row_indices, col_indices):\n",
    "#     print(row, \",\", col)"
   ]
  },
  {
   "cell_type": "code",
   "execution_count": 45,
   "metadata": {
    "scrolled": true
   },
   "outputs": [
    {
     "name": "stdout",
     "output_type": "stream",
     "text": [
      "values in the array at those indices:  [11 22 33 41]\n"
     ]
    }
   ],
   "source": [
    "# select one element for each row\n",
    "print(\"values in the array at those indices: \", an_array[row_indices, col_indices])"
   ]
  },
  {
   "cell_type": "code",
   "execution_count": 47,
   "metadata": {},
   "outputs": [
    {
     "name": "stdout",
     "output_type": "stream",
     "text": [
      "tryyy [11 22 33]\n"
     ]
    }
   ],
   "source": [
    "# passing list in the array is considered index not value...as an_array[2, 4]\n",
    "print( \"same as typing the indices as list\", an_array[[0,1,2], [0,1,2]] )"
   ]
  },
  {
   "cell_type": "code",
   "execution_count": null,
   "metadata": {},
   "outputs": [],
   "source": [
    "# change one element from each row using the indices selected\n",
    "\n",
    "an_array[row_indices, col_indices] += 10000000\n",
    "\n",
    "print(\"\\nChanged of Array: \")\n",
    "print(an_array)"
   ]
  },
  {
   "cell_type": "markdown",
   "metadata": {},
   "source": [
    ". \n",
    "\n",
    "\n",
    "## Boolean Indexing\n",
    "\n",
    "\n",
    "### Array Indexing for changing elements"
   ]
  },
  {
   "cell_type": "code",
   "execution_count": 48,
   "metadata": {},
   "outputs": [
    {
     "name": "stdout",
     "output_type": "stream",
     "text": [
      "[[11 12]\n",
      " [21 22]\n",
      " [31 31]]\n"
     ]
    }
   ],
   "source": [
    "# create a 3x2 array\n",
    "an_array = np.array([ [11,12], [21,22], [31,31] ])\n",
    "print(an_array)"
   ]
  },
  {
   "cell_type": "code",
   "execution_count": 49,
   "metadata": {},
   "outputs": [
    {
     "data": {
      "text/plain": [
       "array([[False, False],\n",
       "       [ True,  True],\n",
       "       [ True,  True]])"
      ]
     },
     "execution_count": 49,
     "metadata": {},
     "output_type": "execute_result"
    }
   ],
   "source": [
    "# create a filter which will be boolean values for whether each element \n",
    "# meets the criteria\n",
    "filter = (an_array > 15)\n",
    "filter"
   ]
  },
  {
   "cell_type": "code",
   "execution_count": 52,
   "metadata": {},
   "outputs": [
    {
     "name": "stdout",
     "output_type": "stream",
     "text": [
      "[21 22 31 31]\n"
     ]
    },
    {
     "data": {
      "text/plain": [
       "array([11, 12, 21, 22, 31, 31])"
      ]
     },
     "execution_count": 52,
     "metadata": {},
     "output_type": "execute_result"
    }
   ],
   "source": [
    "# selecting just element meeting the criteria\n",
    "print(an_array[filter])\n",
    "\n",
    "# in short\n",
    "an_array[(an_array > 2)]\n",
    "an_array[(an_array % 2 == 0)]"
   ]
  },
  {
   "cell_type": "code",
   "execution_count": 53,
   "metadata": {},
   "outputs": [
    {
     "name": "stdout",
     "output_type": "stream",
     "text": [
      "[[ 11 112]\n",
      " [ 21 122]\n",
      " [ 31  31]]\n"
     ]
    }
   ],
   "source": [
    "# changing element using filter\n",
    "an_array[( an_array % 2 == 0 )] += 100\n",
    "print(an_array)"
   ]
  },
  {
   "cell_type": "markdown",
   "metadata": {},
   "source": [
    ".\n",
    "\n",
    "\n",
    "\n",
    "\n",
    "# Datatypes and Array Operations\n",
    "\n"
   ]
  },
  {
   "cell_type": "markdown",
   "metadata": {},
   "source": [
    "## Datatypes:"
   ]
  },
  {
   "cell_type": "code",
   "execution_count": 4,
   "metadata": {},
   "outputs": [
    {
     "name": "stdout",
     "output_type": "stream",
     "text": [
      "int64\n"
     ]
    }
   ],
   "source": [
    "import numpy as np\n",
    "\n",
    "ex1 = np.array([11,12]) # take note, python assigns the data type\n",
    "print(ex1.dtype)\n"
   ]
  },
  {
   "cell_type": "code",
   "execution_count": 5,
   "metadata": {},
   "outputs": [
    {
     "name": "stdout",
     "output_type": "stream",
     "text": [
      "float64\n"
     ]
    }
   ],
   "source": [
    "import numpy as np\n",
    "\n",
    "ex2 = np.array([11.0,12.0]) # take note, python assigns the data type\n",
    "print(ex2.dtype)\n"
   ]
  },
  {
   "cell_type": "code",
   "execution_count": 9,
   "metadata": {},
   "outputs": [
    {
     "name": "stdout",
     "output_type": "stream",
     "text": [
      "int64\n",
      "\n",
      " [11 12]\n"
     ]
    }
   ],
   "source": [
    "# forcing float to integer \n",
    "ex3 = np.array([11.0,12.0], dtype=np.int64)\n",
    "print(ex3.dtype)\n",
    "print(\"\\n\", ex3)"
   ]
  },
  {
   "cell_type": "code",
   "execution_count": 10,
   "metadata": {},
   "outputs": [
    {
     "name": "stdout",
     "output_type": "stream",
     "text": [
      "float64\n",
      "\n",
      " [11. 12.]\n"
     ]
    }
   ],
   "source": [
    "# forcing int to float\n",
    "\n",
    "ex5 = np.array([11,12], dtype=np.float64)\n",
    "print(ex5.dtype)\n",
    "print(\"\\n\", ex5)"
   ]
  },
  {
   "cell_type": "markdown",
   "metadata": {},
   "source": [
    "## Arithmetic Array Operations:"
   ]
  },
  {
   "cell_type": "code",
   "execution_count": 13,
   "metadata": {},
   "outputs": [
    {
     "name": "stdout",
     "output_type": "stream",
     "text": [
      "[[11 12]\n",
      " [21 22]]\n",
      "\n",
      "[[11.1 12.1]\n",
      " [21.1 22.1]]\n"
     ]
    }
   ],
   "source": [
    "x = np.array( [[11, 12], [21, 22]], dtype=np.int)\n",
    "y = np.array( [[11.1, 12.1], [21.1, 22.1]], dtype=np.float64)\n",
    "\n",
    "print(x)\n",
    "print()\n",
    "print(y)"
   ]
  },
  {
   "cell_type": "code",
   "execution_count": 14,
   "metadata": {},
   "outputs": [
    {
     "name": "stdout",
     "output_type": "stream",
     "text": [
      "[[22.1 24.1]\n",
      " [42.1 44.1]]\n",
      "\n",
      "[[22.1 24.1]\n",
      " [42.1 44.1]]\n"
     ]
    }
   ],
   "source": [
    "# add\n",
    "\n",
    "print(x + y) # option 1\n",
    "print()\n",
    "print(np.add(x, y)) # alt 2"
   ]
  },
  {
   "cell_type": "code",
   "execution_count": 15,
   "metadata": {},
   "outputs": [
    {
     "name": "stdout",
     "output_type": "stream",
     "text": [
      "[[-0.1 -0.1]\n",
      " [-0.1 -0.1]]\n",
      "\n",
      "[[-0.1 -0.1]\n",
      " [-0.1 -0.1]]\n"
     ]
    }
   ],
   "source": [
    "# substract\n",
    "\n",
    "print(x - y)\n",
    "print()\n",
    "print(np.subtract(x, y)) # alt 2"
   ]
  },
  {
   "cell_type": "code",
   "execution_count": 16,
   "metadata": {},
   "outputs": [
    {
     "name": "stdout",
     "output_type": "stream",
     "text": [
      "[[122.1 145.2]\n",
      " [443.1 486.2]]\n",
      "\n",
      "[[122.1 145.2]\n",
      " [443.1 486.2]]\n"
     ]
    }
   ],
   "source": [
    "# multiply\n",
    "\n",
    "print(x * y)\n",
    "print()\n",
    "print(np.multiply(x, y)) # alt 2"
   ]
  },
  {
   "cell_type": "code",
   "execution_count": 17,
   "metadata": {},
   "outputs": [
    {
     "name": "stdout",
     "output_type": "stream",
     "text": [
      "[[0.99099099 0.99173554]\n",
      " [0.99526066 0.99547511]]\n",
      "\n",
      "[[0.99099099 0.99173554]\n",
      " [0.99526066 0.99547511]]\n"
     ]
    }
   ],
   "source": [
    "# divide\n",
    "\n",
    "print(x / y)\n",
    "print()\n",
    "print(np.divide(x, y)) # alt 2"
   ]
  },
  {
   "cell_type": "code",
   "execution_count": 18,
   "metadata": {},
   "outputs": [
    {
     "name": "stdout",
     "output_type": "stream",
     "text": [
      "[[3.31662479 3.46410162]\n",
      " [4.58257569 4.69041576]]\n"
     ]
    }
   ],
   "source": [
    "# square root\n",
    "\n",
    "print(np.sqrt(x))"
   ]
  },
  {
   "cell_type": "code",
   "execution_count": 19,
   "metadata": {},
   "outputs": [
    {
     "name": "stdout",
     "output_type": "stream",
     "text": [
      "[[5.98741417e+04 1.62754791e+05]\n",
      " [1.31881573e+09 3.58491285e+09]]\n"
     ]
    }
   ],
   "source": [
    "# exponent (e ** x)\n",
    "print(np.exp(x))"
   ]
  },
  {
   "cell_type": "markdown",
   "metadata": {},
   "source": [
    ".\n",
    "\n",
    "# Statistical Methods, Sorting and Set Operations:"
   ]
  },
  {
   "cell_type": "code",
   "execution_count": 29,
   "metadata": {},
   "outputs": [
    {
     "name": "stdout",
     "output_type": "stream",
     "text": [
      "[[0.72929847 0.90611521 0.96039891 0.56232129 0.16741792]\n",
      " [0.79381906 0.13130395 0.42898136 0.19317685 0.55886923]]\n",
      "\n",
      "[[ 1.00603231 -0.2896228   0.66540286  0.53709587 -0.41279239]\n",
      " [ 1.03318714  0.6251113   0.02966124 -0.51711174 -0.14527607]]\n"
     ]
    }
   ],
   "source": [
    "# setup a random 2x4 matrix\n",
    "\n",
    "arr = np.random.randn(2, 5)\n",
    "arr2 = np.random.random((2, 5))\n",
    "print(arr2)\n",
    "print()\n",
    "print(arr)"
   ]
  },
  {
   "cell_type": "code",
   "execution_count": 30,
   "metadata": {},
   "outputs": [
    {
     "name": "stdout",
     "output_type": "stream",
     "text": [
      "0.25316877235458535\n"
     ]
    }
   ],
   "source": [
    "# mean of all elements ... sum all element divided by the number \n",
    "\n",
    "print(arr.mean())"
   ]
  },
  {
   "cell_type": "code",
   "execution_count": 31,
   "metadata": {},
   "outputs": [
    {
     "name": "stdout",
     "output_type": "stream",
     "text": [
      "[0.30122317 0.20511438]\n"
     ]
    }
   ],
   "source": [
    "# compute means by row\n",
    "# for eact row...(sum elements)/(number of elements) \n",
    "\n",
    "print(arr.mean(axis=1))"
   ]
  },
  {
   "cell_type": "code",
   "execution_count": null,
   "metadata": {},
   "outputs": [],
   "source": [
    "# compute means by colomn\n",
    "\n",
    "print(arr.means(axis=0))"
   ]
  },
  {
   "cell_type": "code",
   "execution_count": 41,
   "metadata": {},
   "outputs": [
    {
     "name": "stdout",
     "output_type": "stream",
     "text": [
      "2.5316877235458537\n"
     ]
    }
   ],
   "source": [
    "# sum all elements\n",
    "\n",
    "print(arr.sum())"
   ]
  },
  {
   "cell_type": "code",
   "execution_count": 44,
   "metadata": {},
   "outputs": [
    {
     "name": "stdout",
     "output_type": "stream",
     "text": [
      "0.2833785533610662\n",
      "[0.53709587 0.02966124]\n"
     ]
    }
   ],
   "source": [
    "# computing medians of elements\n",
    "\n",
    "print(np.median(arr))\n",
    "print(np.median(arr, axis=1))"
   ]
  },
  {
   "cell_type": "markdown",
   "metadata": {},
   "source": [
    "## Sorting "
   ]
  },
  {
   "cell_type": "code",
   "execution_count": 70,
   "metadata": {},
   "outputs": [
    {
     "name": "stdout",
     "output_type": "stream",
     "text": [
      "[ 0.7952785   0.25786755 -1.01604451  1.42941117 -0.45387763]\n"
     ]
    }
   ],
   "source": [
    "# create a rank1 10 element array of randoms\n",
    "\n",
    "unsorted = np.random.randn(5)\n",
    "print(unsorted)"
   ]
  },
  {
   "cell_type": "code",
   "execution_count": 71,
   "metadata": {},
   "outputs": [
    {
     "name": "stdout",
     "output_type": "stream",
     "text": [
      "[-1.01604451 -0.45387763  0.25786755  0.7952785   1.42941117]\n",
      "\n",
      "[ 0.7952785   0.25786755 -1.01604451  1.42941117 -0.45387763]\n"
     ]
    }
   ],
   "source": [
    "# create a copy and sort\n",
    "\n",
    "sorted = np.array(unsorted)  # NB: np.array added makes a COPY\n",
    "sorted.sort()\n",
    "\n",
    "print(sorted)\n",
    "print()\n",
    "print(unsorted)"
   ]
  },
  {
   "cell_type": "code",
   "execution_count": 72,
   "metadata": {},
   "outputs": [
    {
     "name": "stdout",
     "output_type": "stream",
     "text": [
      "[-1.01604451 -0.45387763  0.25786755  0.7952785   1.42941117]\n"
     ]
    }
   ],
   "source": [
    "# sorting the original....inplace sorting\n",
    "\n",
    "unsorted.sort()\n",
    "print(unsorted)"
   ]
  },
  {
   "cell_type": "markdown",
   "metadata": {},
   "source": [
    "## Finding Unique Elements:"
   ]
  },
  {
   "cell_type": "code",
   "execution_count": 3,
   "metadata": {},
   "outputs": [
    {
     "name": "stdout",
     "output_type": "stream",
     "text": [
      "[1 2 4]\n"
     ]
    }
   ],
   "source": [
    "import numpy as np\n",
    "arr = np.array([1,2,1,4,2,1,4,2])\n",
    "print(np.unique(arr))"
   ]
  },
  {
   "cell_type": "markdown",
   "metadata": {},
   "source": [
    "## Set operations with np.array data type "
   ]
  },
  {
   "cell_type": "code",
   "execution_count": 5,
   "metadata": {},
   "outputs": [
    {
     "name": "stdout",
     "output_type": "stream",
     "text": [
      "['desk' 'chair' 'bulb'] ['lamp' 'bulb' 'chair']\n"
     ]
    }
   ],
   "source": [
    "set1 = np.array([\"desk\", \"chair\", \"bulb\"])\n",
    "set2 = np.array([\"lamp\", \"bulb\", \"chair\"])\n",
    "print(set1, set2)"
   ]
  },
  {
   "cell_type": "code",
   "execution_count": 7,
   "metadata": {},
   "outputs": [
    {
     "name": "stdout",
     "output_type": "stream",
     "text": [
      "['bulb' 'chair']\n"
     ]
    }
   ],
   "source": [
    "print(np.intersect1d(set1, set2))    \n",
    "# for any np.sth(you need to pass and array)\n",
    "# 1d cus of the array"
   ]
  },
  {
   "cell_type": "code",
   "execution_count": 8,
   "metadata": {},
   "outputs": [
    {
     "name": "stdout",
     "output_type": "stream",
     "text": [
      "['bulb' 'chair' 'desk' 'lamp']\n"
     ]
    }
   ],
   "source": [
    "print(np.union1d(set1, set2))"
   ]
  },
  {
   "cell_type": "code",
   "execution_count": 10,
   "metadata": {},
   "outputs": [
    {
     "name": "stdout",
     "output_type": "stream",
     "text": [
      "['desk']\n"
     ]
    }
   ],
   "source": [
    "# elements that are in set1 buh not in set2\n",
    "# USE set_different\n",
    "print(np.setdiff1d(set1, set2))"
   ]
  },
  {
   "cell_type": "code",
   "execution_count": 12,
   "metadata": {},
   "outputs": [
    {
     "name": "stdout",
     "output_type": "stream",
     "text": [
      "[False  True  True]\n"
     ]
    }
   ],
   "source": [
    "# which element of set1 is in set2\n",
    "print(np.in1d(set1, set2)) "
   ]
  },
  {
   "cell_type": "markdown",
   "metadata": {},
   "source": [
    ".\n",
    "\n",
    "\n",
    "# Broadcasting\n",
    "\n",
    "...an advanced feature in numpy and \n",
    "_ makes array operations more convenientz\n"
   ]
  },
  {
   "cell_type": "code",
   "execution_count": 20,
   "metadata": {},
   "outputs": [
    {
     "name": "stdout",
     "output_type": "stream",
     "text": [
      "[[0. 0. 0.]\n",
      " [0. 0. 0.]\n",
      " [0. 0. 0.]\n",
      " [0. 0. 0.]]\n"
     ]
    }
   ],
   "source": [
    "start = np.zeros((4, 3))\n",
    "print(start)"
   ]
  },
  {
   "cell_type": "code",
   "execution_count": 40,
   "metadata": {},
   "outputs": [
    {
     "name": "stdout",
     "output_type": "stream",
     "text": [
      "(3,)\n",
      "[1 0 2]\n"
     ]
    }
   ],
   "source": [
    "add_rows = np.array([1, 0, 2])\n",
    "print(add_rows.shape)\n",
    "\n",
    "print(add_rows)"
   ]
  },
  {
   "cell_type": "code",
   "execution_count": 22,
   "metadata": {},
   "outputs": [
    {
     "name": "stdout",
     "output_type": "stream",
     "text": [
      "[[1. 0. 2.]\n",
      " [1. 0. 2.]\n",
      " [1. 0. 2.]\n",
      " [1. 0. 2.]]\n"
     ]
    }
   ],
   "source": [
    "# add to each row of 'start' using broadcasting\n",
    "\n",
    "y = start + add_rows   \n",
    "print(y)"
   ]
  },
  {
   "cell_type": "code",
   "execution_count": 23,
   "metadata": {},
   "outputs": [
    {
     "name": "stdout",
     "output_type": "stream",
     "text": [
      "[[0]\n",
      " [1]\n",
      " [2]\n",
      " [3]]\n"
     ]
    }
   ],
   "source": [
    "# create an 4x1 ndarray to broadcast across columns \n",
    "\n",
    "add_cols = np.array([ [0, 1, 2, 3] ])\n",
    "add_cols = add_cols.T   # transpose\n",
    "\n",
    "print(add_cols)"
   ]
  },
  {
   "cell_type": "code",
   "execution_count": 25,
   "metadata": {},
   "outputs": [
    {
     "name": "stdout",
     "output_type": "stream",
     "text": [
      "[[0. 0. 0.]\n",
      " [1. 1. 1.]\n",
      " [2. 2. 2.]\n",
      " [3. 3. 3.]]\n"
     ]
    }
   ],
   "source": [
    "# adding to each colunm of 'start' using broadcasting \n",
    "y = start + add_cols\n",
    "print(y)"
   ]
  },
  {
   "cell_type": "code",
   "execution_count": 26,
   "metadata": {},
   "outputs": [
    {
     "name": "stdout",
     "output_type": "stream",
     "text": [
      "[[1. 1. 1.]\n",
      " [1. 1. 1.]\n",
      " [1. 1. 1.]\n",
      " [1. 1. 1.]]\n"
     ]
    }
   ],
   "source": [
    "# broadcasting in both directions ... adding a scalar throughout\n",
    "add_scalar = np.array([1])\n",
    "print(start + add_scalar)"
   ]
  },
  {
   "cell_type": "markdown",
   "metadata": {},
   "source": [
    "# Speedtest: ndarrays vs lists"
   ]
  },
  {
   "cell_type": "code",
   "execution_count": 36,
   "metadata": {},
   "outputs": [
    {
     "name": "stdout",
     "output_type": "stream",
     "text": [
      "<class 'numpy.ndarray'>\n",
      "[     0      1      2 ... 999997 999998 999999]\n",
      "\n",
      "Time taken by numpy ndarray: 0.001718 seconds\n"
     ]
    }
   ],
   "source": [
    "from numpy import arange\n",
    "from timeit import Timer\n",
    "\n",
    "size = 1000000\n",
    "timeits = 1000\n",
    "\n",
    "nd_array = arange(size)\n",
    "print(type(nd_array))\n",
    "print(nd_array)\n",
    "\n",
    "timer_numpy = Timer(\"nd_array.sum()\", \"from __main__ import nd_array\")\n",
    "\n",
    "print(\"\\nTime taken by numpy ndarray: %f seconds\" % (timer_numpy.timeit(timeits)/timeits))"
   ]
  },
  {
   "cell_type": "code",
   "execution_count": 37,
   "metadata": {},
   "outputs": [
    {
     "name": "stdout",
     "output_type": "stream",
     "text": [
      "<class 'list'>\n",
      "Time taken by list: 0.018139 seconds\n"
     ]
    }
   ],
   "source": [
    "a_list = list(range(size))\n",
    "print( type(a_list) )\n",
    "\n",
    "timer_list = Timer(\"sum(a_list)\", \"from __main__ import a_list\")\n",
    "print(\"Time taken by list: %f seconds\" % \n",
    "     (timer_list.timeit(timeits)/ timeits))"
   ]
  },
  {
   "cell_type": "code",
   "execution_count": null,
   "metadata": {},
   "outputs": [],
   "source": []
  }
 ],
 "metadata": {
  "kernelspec": {
   "display_name": "Python 3",
   "language": "python",
   "name": "python3"
  },
  "language_info": {
   "codemirror_mode": {
    "name": "ipython",
    "version": 3
   },
   "file_extension": ".py",
   "mimetype": "text/x-python",
   "name": "python",
   "nbconvert_exporter": "python",
   "pygments_lexer": "ipython3",
   "version": "3.7.1"
  }
 },
 "nbformat": 4,
 "nbformat_minor": 2
}
