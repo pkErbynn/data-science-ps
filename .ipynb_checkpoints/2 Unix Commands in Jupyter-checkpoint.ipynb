{
 "cells": [
  {
   "cell_type": "markdown",
   "metadata": {},
   "source": [
    "# UNIX Commands for Data Scientists #"
   ]
  },
  {
   "cell_type": "markdown",
   "metadata": {},
   "source": [
    "## Declaring Filename ##"
   ]
  },
  {
   "cell_type": "code",
   "execution_count": 5,
   "metadata": {
    "scrolled": true
   },
   "outputs": [
    {
     "name": "stdout",
     "output_type": "stream",
     "text": [
      "'Intro Notebook.ipynb'\t unix  'Unix Commands in Jupyter.ipynb'\r\n"
     ]
    }
   ],
   "source": [
    "!ls"
   ]
  },
  {
   "cell_type": "code",
   "execution_count": 2,
   "metadata": {
    "scrolled": true
   },
   "outputs": [
    {
     "name": "stdout",
     "output_type": "stream",
     "text": [
      "hy\r\n"
     ]
    }
   ],
   "source": [
    "!echo 'hy'"
   ]
  },
  {
   "cell_type": "code",
   "execution_count": 3,
   "metadata": {},
   "outputs": [
    {
     "name": "stdout",
     "output_type": "stream",
     "text": [
      "'Intro Notebook.ipynb'\t unix  'Unix Commands in Jupyter.ipynb'\r\n"
     ]
    }
   ],
   "source": [
    "!ls"
   ]
  },
  {
   "cell_type": "code",
   "execution_count": 4,
   "metadata": {},
   "outputs": [
    {
     "name": "stdout",
     "output_type": "stream",
     "text": [
      "total 28\r\n",
      "-rw-r--r-- 1 pkerbynn pkerbynn 19741 Mar 28 11:34 'Intro Notebook.ipynb'\r\n",
      "drwxr-xr-x 2 pkerbynn pkerbynn  4096 Mar 28 11:46  unix\r\n",
      "-rw-r--r-- 1 pkerbynn pkerbynn   847 Mar 28 11:47 'Unix Commands in Jupyter.ipynb'\r\n"
     ]
    }
   ],
   "source": [
    "!ls -l"
   ]
  },
  {
   "cell_type": "code",
   "execution_count": 6,
   "metadata": {},
   "outputs": [
    {
     "name": "stdout",
     "output_type": "stream",
     "text": [
      "text1.txt\r\n"
     ]
    }
   ],
   "source": [
    "!ls ./unix"
   ]
  },
  {
   "cell_type": "code",
   "execution_count": 11,
   "metadata": {},
   "outputs": [
    {
     "name": "stdout",
     "output_type": "stream",
     "text": [
      "./unix/text1.txt\n",
      "./unix/text1.txt\r\n"
     ]
    }
   ],
   "source": [
    "filename = './unix/text1.txt' # this is not a unix command #\n",
    "print(filename)\n",
    "!echo $filename   # echo, in unix, can be used...filename as var #"
   ]
  },
  {
   "cell_type": "markdown",
   "metadata": {},
   "source": [
    "## head ##"
   ]
  },
  {
   "cell_type": "code",
   "execution_count": 12,
   "metadata": {},
   "outputs": [
    {
     "name": "stdout",
     "output_type": "stream",
     "text": [
      "this is the contents of text 1 file\r\n",
      "------------HAPPILY----------\r\n",
      "you dont understand, u dont understand\r\n",
      "what you do to me when you hold his hands\r\n",
      "we were meant to be, but it was just a fate\r\n"
     ]
    }
   ],
   "source": [
    "!head -n 5 $filename"
   ]
  },
  {
   "cell_type": "code",
   "execution_count": 13,
   "metadata": {},
   "outputs": [
    {
     "name": "stdout",
     "output_type": "stream",
     "text": [
      "this is the contents of text 1 file\r\n",
      "------------HAPPILY----------\r\n",
      "you dont understand, u dont understand\r\n",
      "what you do to me when you hold his hands\r\n",
      "we were meant to be, but it was just a fate\r\n"
     ]
    }
   ],
   "source": [
    "!head -5 $filename"
   ]
  },
  {
   "cell_type": "markdown",
   "metadata": {},
   "source": [
    "## tail ##"
   ]
  },
  {
   "cell_type": "code",
   "execution_count": 14,
   "metadata": {},
   "outputs": [
    {
     "name": "stdout",
     "output_type": "stream",
     "text": [
      "\r\n",
      "cause, we are on fire, we are on fire,\r\n",
      "yeah, we are on fire, we are on now\r\n",
      "\r\n",
      "i dont care what people say\r\n"
     ]
    }
   ],
   "source": [
    "!tail -n 5 $filename"
   ]
  },
  {
   "cell_type": "code",
   "execution_count": 16,
   "metadata": {},
   "outputs": [
    {
     "name": "stdout",
     "output_type": "stream",
     "text": [
      "\r\n",
      "i dont care what people say when we are together\r\n",
      "you know i wanna be the one to hold you when you sleep\r\n",
      "i just it be with u and i forever\r\n",
      "i know you wanna leave, so come on \r\n",
      "baby be with me so happily\r\n"
     ]
    }
   ],
   "source": [
    "!tail -6 $filename"
   ]
  },
  {
   "cell_type": "markdown",
   "metadata": {},
   "source": [
    "##  wc ##"
   ]
  },
  {
   "cell_type": "code",
   "execution_count": 17,
   "metadata": {},
   "outputs": [
    {
     "name": "stdout",
     "output_type": "stream",
     "text": [
      "15 ./unix/text1.txt\r\n"
     ]
    }
   ],
   "source": [
    "!wc -l $filename"
   ]
  },
  {
   "cell_type": "code",
   "execution_count": 18,
   "metadata": {},
   "outputs": [
    {
     "name": "stdout",
     "output_type": "stream",
     "text": [
      "108 501 ./unix/text1.txt\r\n"
     ]
    }
   ],
   "source": [
    "!wc -wc $filename"
   ]
  },
  {
   "cell_type": "markdown",
   "metadata": {},
   "source": [
    "## cat ##"
   ]
  },
  {
   "cell_type": "code",
   "execution_count": 20,
   "metadata": {},
   "outputs": [
    {
     "name": "stdout",
     "output_type": "stream",
     "text": [
      "15\r\n"
     ]
    }
   ],
   "source": [
    "!cat $filename | wc -l    "
   ]
  },
  {
   "cell_type": "markdown",
   "metadata": {},
   "source": [
    "## grep ##"
   ]
  },
  {
   "cell_type": "code",
   "execution_count": 21,
   "metadata": {},
   "outputs": [
    {
     "name": "stdout",
     "output_type": "stream",
     "text": [
      "cause, we are on fire, we are on fire,\r\n",
      "yeah, we are on fire, we are on now\r\n"
     ]
    }
   ],
   "source": [
    "!grep -i 'fire' $filename   # incase sensitive#"
   ]
  },
  {
   "cell_type": "code",
   "execution_count": 22,
   "metadata": {},
   "outputs": [
    {
     "name": "stdout",
     "output_type": "stream",
     "text": [
      "2\r\n"
     ]
    }
   ],
   "source": [
    "!cat $filename | grep -i 'fire' $filename | wc -l  # producing number of lines #"
   ]
  },
  {
   "cell_type": "code",
   "execution_count": 23,
   "metadata": {},
   "outputs": [
    {
     "name": "stdout",
     "output_type": "stream",
     "text": [
      "2\r\n"
     ]
    }
   ],
   "source": [
    "!cat $filename | grep -i 'fire'| wc -l"
   ]
  },
  {
   "cell_type": "code",
   "execution_count": 24,
   "metadata": {},
   "outputs": [
    {
     "name": "stdout",
     "output_type": "stream",
     "text": [
      "3\r\n"
     ]
    }
   ],
   "source": [
    "!cat $filename | grep -o 'fire' | wc -l   # displays the occurrence of the word in the file#"
   ]
  },
  {
   "cell_type": "markdown",
   "metadata": {},
   "source": [
    "## sed ##"
   ]
  },
  {
   "cell_type": "code",
   "execution_count": 29,
   "metadata": {},
   "outputs": [],
   "source": [
    "# replace all instances of 'fire' to 'smoke' #\n",
    "!sed 's/fire/smoke/g' $filename > temp.txt"
   ]
  },
  {
   "cell_type": "code",
   "execution_count": 30,
   "metadata": {},
   "outputs": [
    {
     "name": "stdout",
     "output_type": "stream",
     "text": [
      "we were meant to be, but it was just a fate\r\n",
      "i just it be with u and i forever\r\n"
     ]
    }
   ],
   "source": [
    "!grep -i 'just' temp.txt   # ignore non-printing, print only printable chars#"
   ]
  },
  {
   "cell_type": "markdown",
   "metadata": {},
   "source": [
    "## sort ##"
   ]
  },
  {
   "cell_type": "code",
   "execution_count": 31,
   "metadata": {},
   "outputs": [
    {
     "name": "stdout",
     "output_type": "stream",
     "text": [
      "this is the contents of text 1 file\r\n",
      "------------HAPPILY----------\r\n",
      "you dont understand, u dont understand\r\n",
      "what you do to me when you hold his hands\r\n",
      "we were meant to be, but it was just a fate\r\n"
     ]
    }
   ],
   "source": [
    "!head -n 5 $filename"
   ]
  },
  {
   "cell_type": "code",
   "execution_count": 33,
   "metadata": {},
   "outputs": [
    {
     "name": "stdout",
     "output_type": "stream",
     "text": [
      "------------HAPPILY----------\r\n",
      "this is the contents of text 1 file\r\n",
      "we were meant to be, but it was just a fate\r\n",
      "what you do to me when you hold his hands\r\n",
      "you dont understand, u dont understand\r\n"
     ]
    }
   ],
   "source": [
    "!head -n 5 $filename | sort   # in ascending char order #"
   ]
  },
  {
   "cell_type": "code",
   "execution_count": 38,
   "metadata": {
    "scrolled": true
   },
   "outputs": [
    {
     "name": "stdout",
     "output_type": "stream",
     "text": [
      "------------HAPPILY----------\r\n",
      "you dont understand, u dont understand\r\n",
      "this is the contents of text 1 file\r\n",
      "we were meant to be, but it was just a fate\r\n",
      "what you do to me when you hold his hands\r\n"
     ]
    }
   ],
   "source": [
    "# columns separated by ' ', sort on column 2 (-k2), case insensitive (-f)\n",
    "# sorted ascendingly by second word of each line \n",
    "!head -n 5 $filename | sort -f -t\" \" -k2"
   ]
  },
  {
   "cell_type": "code",
   "execution_count": 39,
   "metadata": {},
   "outputs": [
    {
     "name": "stdout",
     "output_type": "stream",
     "text": [
      "15\r\n"
     ]
    }
   ],
   "source": [
    "!sort $filename | wc -l"
   ]
  },
  {
   "cell_type": "code",
   "execution_count": 44,
   "metadata": {},
   "outputs": [
    {
     "name": "stdout",
     "output_type": "stream",
     "text": [
      "13\r\n"
     ]
    }
   ],
   "source": [
    "# uniq command for getting unique records using -u flag \n",
    "# shows repeated record(line) once\n",
    "!sort $filename | uniq -u | wc -l"
   ]
  },
  {
   "cell_type": "markdown",
   "metadata": {},
   "source": [
    "## all together "
   ]
  },
  {
   "cell_type": "markdown",
   "metadata": {},
   "source": [
    "### count most frequent words in the UNIX text"
   ]
  },
  {
   "cell_type": "code",
   "execution_count": 5,
   "metadata": {},
   "outputs": [
    {
     "name": "stdout",
     "output_type": "stream",
     "text": [
      "./unix/text1.txt\n"
     ]
    }
   ],
   "source": [
    "filename = './unix/text1.txt'\n",
    "print(filename)"
   ]
  },
  {
   "cell_type": "code",
   "execution_count": 19,
   "metadata": {
    "scrolled": true
   },
   "outputs": [
    {
     "name": "stdout",
     "output_type": "stream",
     "text": [
      "      7 you$\r\n",
      "      7 we$\r\n",
      "      5 on$\r\n",
      "      5 i$\r\n",
      "      5 are$\r\n",
      "      4 to$\r\n",
      "      3 when$\r\n",
      "      3 so$\r\n",
      "      3 dont$\r\n",
      "      3 be$\r\n",
      "      3 \r\n",
      "      2 with$\r\n",
      "      2 what$\r\n",
      "      2 wanna$\r\n",
      "      2 u$\r\n"
     ]
    }
   ],
   "source": [
    "# replace spaces with $ + newline\n",
    "!sed -e 's/ /\\'$'\\n/g' < $filename | sort | uniq -c | sort -nr | head -15"
   ]
  },
  {
   "cell_type": "markdown",
   "metadata": {},
   "source": [
    "### write the output to a file"
   ]
  },
  {
   "cell_type": "code",
   "execution_count": 17,
   "metadata": {},
   "outputs": [],
   "source": [
    "!sed -e 's/ /\\'$'\\n/g' < $filename | sort | uniq -c | sort -nr | head -15 > count_vs_word"
   ]
  },
  {
   "cell_type": "markdown",
   "metadata": {},
   "source": [
    "## plot by importing word counts into python"
   ]
  },
  {
   "cell_type": "code",
   "execution_count": 23,
   "metadata": {},
   "outputs": [
    {
     "ename": "TypeError",
     "evalue": "\"delimiter\" must be a 1-character string",
     "output_type": "error",
     "traceback": [
      "\u001b[0;31m---------------------------------------------------------------------------\u001b[0m",
      "\u001b[0;31mTypeError\u001b[0m                                 Traceback (most recent call last)",
      "\u001b[0;32m<ipython-input-23-a553ba9c8d9a>\u001b[0m in \u001b[0;36m<module>\u001b[0;34m\u001b[0m\n\u001b[1;32m      6\u001b[0m \u001b[0;34m\u001b[0m\u001b[0m\n\u001b[1;32m      7\u001b[0m \u001b[0;32mwith\u001b[0m \u001b[0mopen\u001b[0m\u001b[0;34m(\u001b[0m\u001b[0;34m'count_vs_word'\u001b[0m\u001b[0;34m,\u001b[0m \u001b[0;34m'r'\u001b[0m\u001b[0;34m)\u001b[0m \u001b[0;32mas\u001b[0m \u001b[0mcsvfile\u001b[0m\u001b[0;34m:\u001b[0m\u001b[0;34m\u001b[0m\u001b[0;34m\u001b[0m\u001b[0m\n\u001b[0;32m----> 8\u001b[0;31m     \u001b[0mplots\u001b[0m \u001b[0;34m=\u001b[0m \u001b[0mcsv\u001b[0m\u001b[0;34m.\u001b[0m\u001b[0mreader\u001b[0m\u001b[0;34m(\u001b[0m\u001b[0mcsvfile\u001b[0m\u001b[0;34m,\u001b[0m \u001b[0mdelimiter\u001b[0m\u001b[0;34m=\u001b[0m\u001b[0;34m''\u001b[0m\u001b[0;34m)\u001b[0m\u001b[0;34m\u001b[0m\u001b[0;34m\u001b[0m\u001b[0m\n\u001b[0m\u001b[1;32m      9\u001b[0m     \u001b[0mprint\u001b[0m\u001b[0;34m(\u001b[0m\u001b[0mplots\u001b[0m\u001b[0;34m)\u001b[0m\u001b[0;34m\u001b[0m\u001b[0;34m\u001b[0m\u001b[0m\n",
      "\u001b[0;31mTypeError\u001b[0m: \"delimiter\" must be a 1-character string"
     ]
    }
   ],
   "source": [
    "import matplotlib as plt\n",
    "import csv\n",
    "\n",
    "x_ticks = []\n",
    "y = []\n",
    "\n",
    "with open('count_vs_word', 'r') as csvfile:\n",
    "    plots = csv.reader(csvfile, delimiter=' ')\n",
    "    print(plots)"
   ]
  },
  {
   "cell_type": "code",
   "execution_count": null,
   "metadata": {},
   "outputs": [],
   "source": []
  }
 ],
 "metadata": {
  "kernelspec": {
   "display_name": "Python 3",
   "language": "python",
   "name": "python3"
  },
  "language_info": {
   "codemirror_mode": {
    "name": "ipython",
    "version": 3
   },
   "file_extension": ".py",
   "mimetype": "text/x-python",
   "name": "python",
   "nbconvert_exporter": "python",
   "pygments_lexer": "ipython3",
   "version": "3.7.1"
  }
 },
 "nbformat": 4,
 "nbformat_minor": 2
}
